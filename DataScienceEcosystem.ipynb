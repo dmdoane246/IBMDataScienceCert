{
 "cells": [
  {
   "cell_type": "markdown",
   "id": "d84dd006-527a-43da-942e-e0dc086af489",
   "metadata": {},
   "source": [
    "# Data Science Tools and Ecosystem"
   ]
  },
  {
   "cell_type": "markdown",
   "id": "3653846e-6474-4087-a1e8-11de50885e19",
   "metadata": {},
   "source": [
    "In this notebook, Data Science Tools and Ecosystems are summarized"
   ]
  },
  {
   "cell_type": "markdown",
   "id": "0e09e7dd-5dcf-482d-870c-0ba83db6bdc7",
   "metadata": {},
   "source": [
    "**Objectives**\n",
    "- RStudio Basics\n",
    "- GitHub Basics\n",
    "- Python Overview"
   ]
  },
  {
   "cell_type": "markdown",
   "id": "8cc84630-3a4a-498d-909e-88b449ae4a27",
   "metadata": {},
   "source": [
    "Some of the popular languages that Data Scientist use are:\n",
    "1. Python\n",
    "2. SQL\n",
    "3. R"
   ]
  },
  {
   "cell_type": "markdown",
   "id": "b188c9f6-7196-4744-9e7f-8b1cb3dbae54",
   "metadata": {},
   "source": [
    "Some of the commonly used libraries used by Data Scientists include:\n",
    "1. numpy\n",
    "2. ggplot2\n",
    "3. pandas"
   ]
  },
  {
   "cell_type": "markdown",
   "id": "22d581c4-5e5b-4397-815e-16b93f629eb7",
   "metadata": {},
   "source": [
    "Data Science tools |\n",
    "--------------|\n",
    "Jupyter Notebooks |\n",
    "RStudio|\n",
    "Visual Studio |"
   ]
  },
  {
   "cell_type": "markdown",
   "id": "d7b9ea87-102a-4f83-81f1-312eae8f82b9",
   "metadata": {},
   "source": [
    "### Below are a few examples of evaluating arithmetic expression in Python\n"
   ]
  },
  {
   "cell_type": "code",
   "execution_count": 3,
   "id": "9ed9b906-961b-4b07-b5e6-d403a6580389",
   "metadata": {},
   "outputs": [
    {
     "data": {
      "text/plain": [
       "17"
      ]
     },
     "execution_count": 3,
     "metadata": {},
     "output_type": "execute_result"
    }
   ],
   "source": [
    "# this is a simple arithmetic expression to multiply and add integers\n",
    "(3*4)+5"
   ]
  },
  {
   "cell_type": "code",
   "execution_count": 5,
   "id": "b64c0451-0a01-4650-ae98-d394877e64f3",
   "metadata": {},
   "outputs": [
    {
     "data": {
      "text/plain": [
       "3.3333333333333335"
      ]
     },
     "execution_count": 5,
     "metadata": {},
     "output_type": "execute_result"
    }
   ],
   "source": [
    "# this will convert 200 minutes to hours by diving by 60\n",
    "200 / 60"
   ]
  },
  {
   "cell_type": "markdown",
   "id": "41f4302f-533b-42c1-a89b-94612c8009e0",
   "metadata": {},
   "source": [
    "## Author\n",
    "Derek Doane"
   ]
  },
  {
   "cell_type": "code",
   "execution_count": null,
   "id": "8d614c87-1ec3-4725-b517-f92f8b6ce026",
   "metadata": {},
   "outputs": [],
   "source": []
  }
 ],
 "metadata": {
  "kernelspec": {
   "display_name": "Python 3 (ipykernel)",
   "language": "python",
   "name": "python3"
  },
  "language_info": {
   "codemirror_mode": {
    "name": "ipython",
    "version": 3
   },
   "file_extension": ".py",
   "mimetype": "text/x-python",
   "name": "python",
   "nbconvert_exporter": "python",
   "pygments_lexer": "ipython3",
   "version": "3.9.12"
  }
 },
 "nbformat": 4,
 "nbformat_minor": 5
}
